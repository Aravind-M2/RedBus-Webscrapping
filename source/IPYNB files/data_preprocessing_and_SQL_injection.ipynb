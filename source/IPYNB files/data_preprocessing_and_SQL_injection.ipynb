{
 "cells": [
  {
   "cell_type": "code",
   "execution_count": 43,
   "id": "9a82dda3-f7b9-4b41-a70c-c336fc743581",
   "metadata": {},
   "outputs": [],
   "source": [
    "#### assigining values from the saved files ###########"
   ]
  },
  {
   "cell_type": "code",
   "execution_count": null,
   "id": "bf7d84ce-51af-42a8-a505-4a67ccbb09b3",
   "metadata": {},
   "outputs": [],
   "source": [
    "import json\n",
    "with open(\"route_bus_detail_dict.txt\", 'r') as file1:\n",
    "    route_bus_detail_dict = json.load(file1)\n",
    "with open(\"route_travel_date_dict.txt\", 'r') as file2:\n",
    "    route_travel_date_dict = json.load(file2)"
   ]
  },
  {
   "cell_type": "code",
   "execution_count": null,
   "id": "770a065c-37a9-40e1-957a-137c2c590b53",
   "metadata": {},
   "outputs": [],
   "source": []
  },
  {
   "cell_type": "code",
   "execution_count": null,
   "id": "5dca4ca8-481a-44cd-b7af-307cc2e32188",
   "metadata": {},
   "outputs": [],
   "source": [
    "####################################### Pre-processing the data before inserting data into DB ###########################################"
   ]
  },
  {
   "cell_type": "code",
   "execution_count": 51,
   "id": "b1a8bb43-bbd8-442b-8bb9-0cebca3d981d",
   "metadata": {},
   "outputs": [],
   "source": [
    "route_bus_prep = []\n",
    "for r,i in route_bus_detail_dict.items():\n",
    "\n",
    "    for j in i:\n",
    "        tem = {}\n",
    "        sr_present = 0\n",
    "        for k,l in j.items():\n",
    "            # primary key(id) ----- to be added in DB and it should be series type (self_incremental)\n",
    "            \n",
    "            tem['Bus Route Name'] = r\n",
    "            tem['Bus Routes Link'] = route_travel_date_dict[r]['link']\n",
    "            tem['Travel Date'] = route_travel_date_dict[r]['travel_date']\n",
    "\n",
    "            if 'travels lh-24' in k:\n",
    "                tem['Bus Name'] = l\n",
    "            \n",
    "            elif 'bus-type' in k:\n",
    "                tem['Bus Type'] = l\n",
    "            \n",
    "            elif 'dp-time' in k:\n",
    "                tem['Departing Time'] = l         #### change it as time --- data type\n",
    "            \n",
    "            elif 'dur l-color' in k:\n",
    "                tem['Duration'] = l\n",
    "\n",
    "            elif 'bp-time' in k:\n",
    "                tem['Reaching Time'] = l         #### change it as time --- data type\n",
    "                \n",
    "            elif 'rating-sec' in k:\n",
    "                tem['Star Rating'] = l\n",
    "                \n",
    "            elif 'rating' in k:\n",
    "                tem['Star Rating'] = l\n",
    "                    \n",
    "            elif 'fare d-block' in k:\n",
    "                tem['Price'] = l\n",
    "                \n",
    "            elif 'seat-left' in k:\n",
    "                tem['Seat Availability'] = int(l.split()[0])  ##### use split and take the 1st value alone\n",
    "    \n",
    "        \n",
    "        route_bus_prep.append(tem)\n"
   ]
  },
  {
   "cell_type": "code",
   "execution_count": 52,
   "id": "d6a7a383-4cc4-4c34-a320-61d23088eea8",
   "metadata": {},
   "outputs": [],
   "source": [
    "import pandas as pd"
   ]
  },
  {
   "cell_type": "code",
   "execution_count": 53,
   "id": "a1c6cc86-1293-40fd-b455-8d8f6c267ce1",
   "metadata": {
    "scrolled": true
   },
   "outputs": [],
   "source": [
    "df_bus = pd.DataFrame(route_bus_prep)\n"
   ]
  },
  {
   "cell_type": "code",
   "execution_count": 54,
   "id": "426430cd-1634-4062-a56d-d431f513f63c",
   "metadata": {},
   "outputs": [
    {
     "name": "stdout",
     "output_type": "stream",
     "text": [
      "<class 'pandas.core.frame.DataFrame'>\n",
      "RangeIndex: 12271 entries, 0 to 12270\n",
      "Data columns (total 11 columns):\n",
      " #   Column             Non-Null Count  Dtype \n",
      "---  ------             --------------  ----- \n",
      " 0   Bus Route Name     12271 non-null  object\n",
      " 1   Bus Routes Link    12271 non-null  object\n",
      " 2   Travel Date        12271 non-null  object\n",
      " 3   Bus Name           12271 non-null  object\n",
      " 4   Bus Type           12271 non-null  object\n",
      " 5   Departing Time     12271 non-null  object\n",
      " 6   Duration           12271 non-null  object\n",
      " 7   Reaching Time      12271 non-null  object\n",
      " 8   Star Rating        12213 non-null  object\n",
      " 9   Price              12271 non-null  object\n",
      " 10  Seat Availability  12271 non-null  int64 \n",
      "dtypes: int64(1), object(10)\n",
      "memory usage: 1.0+ MB\n"
     ]
    }
   ],
   "source": [
    "df_bus_backup = df_bus.copy()"
   ]
  },
  {
   "cell_type": "code",
   "execution_count": 57,
   "id": "7200dac0-6276-4dc2-a5b7-2eb5beb64d44",
   "metadata": {},
   "outputs": [],
   "source": [
    "from datetime import datetime, timedelta"
   ]
  },
  {
   "cell_type": "code",
   "execution_count": 58,
   "id": "4c06c67d-b9e0-497b-8df6-9d60263f85c0",
   "metadata": {},
   "outputs": [],
   "source": [
    "df_bus[\"Travel Date\"] = pd.to_datetime(df_bus[\"Travel Date\"] + \" 2024\", format=\"%d %b %Y\")"
   ]
  },
  {
   "cell_type": "code",
   "execution_count": 59,
   "id": "51e7e5b6-3838-47a9-afb1-f6961832adf7",
   "metadata": {},
   "outputs": [],
   "source": [
    "df_bus[\"Departing Time\"] = pd.to_timedelta(df_bus[\"Departing Time\"].str.extract(r\"(\\d{2}:\\d{2})\")[0] + \":00\")"
   ]
  },
  {
   "cell_type": "code",
   "execution_count": 60,
   "id": "203372b4-7b33-45c2-a440-28cadb50550e",
   "metadata": {},
   "outputs": [],
   "source": [
    "# df_bus[\"Duration\"] = df_bus[\"Duration\"].apply(lambda x: timedelta(hours=int(x.split(\"h\")[0]), minutes=int(x.split(\"h\")[1].split(\"m\")[0])))\n",
    "def parse_duration(duration):\n",
    "    try:\n",
    "        hours, minutes = map(int, duration.replace(\"h\", \"\").replace(\"m\", \"\").split())\n",
    "        return timedelta(hours=hours, minutes=minutes)\n",
    "    except Exception:\n",
    "        # Handle invalid values\n",
    "        return timedelta(0) "
   ]
  },
  {
   "cell_type": "code",
   "execution_count": 61,
   "id": "bd3f3c35-28a0-4b8c-b271-dc2d96571ac7",
   "metadata": {},
   "outputs": [],
   "source": [
    "df_bus[\"Duration\"] = df_bus[\"Duration\"].apply(parse_duration)"
   ]
  },
  {
   "cell_type": "code",
   "execution_count": 62,
   "id": "1cabca3c-6551-4589-a223-208f1b805f45",
   "metadata": {},
   "outputs": [],
   "source": [
    "df_bus[\"Reaching Date\"] = df_bus[\"Travel Date\"] + df_bus[\"Departing Time\"] + df_bus[\"Duration\"]"
   ]
  },
  {
   "cell_type": "code",
   "execution_count": 63,
   "id": "cdc36c37-226e-4f79-a2c9-b140af285885",
   "metadata": {},
   "outputs": [],
   "source": [
    "df_bus[\"Starting Date\"] = df_bus[\"Travel Date\"] + df_bus[\"Departing Time\"]"
   ]
  },
  {
   "cell_type": "code",
   "execution_count": 75,
   "id": "f55811a0-b1fd-42b4-9928-35eb01a3672c",
   "metadata": {},
   "outputs": [],
   "source": [
    "df_bus['Star Rating'] = df_bus['Star Rating'].fillna('0')\n",
    "df_bus['Star Rating'] = df_bus['Star Rating'].str.replace(\"New\", '0')\n",
    "df_bus['Star Rating'] = df_bus['Star Rating'].astype(float)\n",
    "df_bus['Star Rating'] = df_bus['Star Rating'].apply(lambda x : '0' if x == None else x)"
   ]
  },
  {
   "cell_type": "code",
   "execution_count": 65,
   "id": "fbedecba-eea1-4814-a2f7-7a5256494726",
   "metadata": {},
   "outputs": [],
   "source": [
    "df_bus[\"Price\"] = df_bus[\"Price\"].str.replace(\"INR \", \"\").astype(float)\n"
   ]
  },
  {
   "cell_type": "code",
   "execution_count": 66,
   "id": "5bbe138c-8656-41ac-b296-8a05901eafe0",
   "metadata": {},
   "outputs": [],
   "source": [
    "df_bus_final = df_bus[['Bus Route Name', 'Bus Routes Link','Bus Name','Bus Type', 'Starting Date','Duration','Reaching Date', 'Star Rating', 'Price', 'Seat Availability']]"
   ]
  },
  {
   "cell_type": "code",
   "execution_count": 67,
   "id": "0975e89d-041f-4176-959e-ae2fa7318f5c",
   "metadata": {},
   "outputs": [
    {
     "name": "stderr",
     "output_type": "stream",
     "text": [
      "C:\\Users\\Hp\\AppData\\Local\\Temp\\ipykernel_14992\\3698342266.py:1: SettingWithCopyWarning: \n",
      "A value is trying to be set on a copy of a slice from a DataFrame.\n",
      "Try using .loc[row_indexer,col_indexer] = value instead\n",
      "\n",
      "See the caveats in the documentation: https://pandas.pydata.org/pandas-docs/stable/user_guide/indexing.html#returning-a-view-versus-a-copy\n",
      "  df_bus_final[\"Duration\"] = df_bus_backup[\"Duration\"].copy()\n",
      "C:\\Users\\Hp\\AppData\\Local\\Temp\\ipykernel_14992\\3698342266.py:2: SettingWithCopyWarning: \n",
      "A value is trying to be set on a copy of a slice from a DataFrame.\n",
      "Try using .loc[row_indexer,col_indexer] = value instead\n",
      "\n",
      "See the caveats in the documentation: https://pandas.pydata.org/pandas-docs/stable/user_guide/indexing.html#returning-a-view-versus-a-copy\n",
      "  df_bus_final[\"Duration\"] = df_bus_final[\"Duration\"].astype(str)\n"
     ]
    }
   ],
   "source": [
    "df_bus_final[\"Duration\"] = df_bus_backup[\"Duration\"].copy()\n",
    "df_bus_final[\"Duration\"] = df_bus_final[\"Duration\"].astype(str)"
   ]
  },
  {
   "cell_type": "code",
   "execution_count": null,
   "id": "a59bf744-1b3b-497c-919d-8d01af4dc340",
   "metadata": {},
   "outputs": [],
   "source": [
    "#### inserting data into a table in Database ### postgesql"
   ]
  },
  {
   "cell_type": "code",
   "execution_count": 22,
   "id": "21ef1613-b6be-4772-8f3e-ec0be04d551c",
   "metadata": {},
   "outputs": [
    {
     "name": "stdout",
     "output_type": "stream",
     "text": [
      "Defaulting to user installation because normal site-packages is not writeable\n",
      "Requirement already satisfied: psycopg2 in c:\\users\\hp\\appdata\\roaming\\python\\python311\\site-packages (2.9.10)\n"
     ]
    },
    {
     "name": "stderr",
     "output_type": "stream",
     "text": [
      "\n",
      "[notice] A new release of pip is available: 24.0 -> 24.3.1\n",
      "[notice] To update, run: python.exe -m pip install --upgrade pip\n"
     ]
    }
   ],
   "source": [
    "#!pip install psycopg2"
   ]
  },
  {
   "cell_type": "code",
   "execution_count": 56,
   "id": "5b1f4025-6a02-49fc-bc08-30f0de871ffa",
   "metadata": {},
   "outputs": [],
   "source": [
    "import psycopg2"
   ]
  },
  {
   "cell_type": "code",
   "execution_count": 89,
   "id": "01a4aa29-6174-414d-88c6-676d8dc482c5",
   "metadata": {},
   "outputs": [],
   "source": [
    "from psycopg2.extras import execute_values"
   ]
  },
  {
   "cell_type": "code",
   "execution_count": 90,
   "id": "72dd9459-f7b9-4ac6-9567-a95e1d4be179",
   "metadata": {},
   "outputs": [],
   "source": [
    "conn = psycopg2.connect(\n",
    "    database=\"Redbus\",\n",
    "    user=\"postgres\",\n",
    "    password=\"12345678\",\n",
    "    host=\"localhost\",\n",
    "    port=\"5432\"\n",
    ")\n",
    "cur = conn.cursor()"
   ]
  },
  {
   "cell_type": "code",
   "execution_count": 94,
   "id": "542dfc52-7004-4115-afc4-272d8737b82f",
   "metadata": {},
   "outputs": [
    {
     "ename": "UndefinedObject",
     "evalue": "type \"datetime\" does not exist\nLINE 7: departing_time DATETIME,\n                       ^\n",
     "output_type": "error",
     "traceback": [
      "\u001b[1;31m---------------------------------------------------------------------------\u001b[0m",
      "\u001b[1;31mUndefinedObject\u001b[0m                           Traceback (most recent call last)",
      "Cell \u001b[1;32mIn[94], line 1\u001b[0m\n\u001b[1;32m----> 1\u001b[0m cur\u001b[38;5;241m.\u001b[39mexecute(\u001b[38;5;124m\"\"\"\u001b[39m\u001b[38;5;124m CREATE TABLE bus_routes (\u001b[39m\n\u001b[0;32m      2\u001b[0m \u001b[38;5;124mid SERIAL PRIMARY KEY,\u001b[39m\n\u001b[0;32m      3\u001b[0m \u001b[38;5;124mroute_name TEXT not null,\u001b[39m\n\u001b[0;32m      4\u001b[0m \u001b[38;5;124mroute_link TEXT,\u001b[39m\n\u001b[0;32m      5\u001b[0m \u001b[38;5;124mbusname TEXT not null,\u001b[39m\n\u001b[0;32m      6\u001b[0m \u001b[38;5;124mbustype TEXT,\u001b[39m\n\u001b[0;32m      7\u001b[0m \u001b[38;5;124mdeparting_time DATETIME,\u001b[39m\n\u001b[0;32m      8\u001b[0m \u001b[38;5;124mduration TEXT,\u001b[39m\n\u001b[0;32m      9\u001b[0m \u001b[38;5;124mreaching_time DATETIME,\u001b[39m\n\u001b[0;32m     10\u001b[0m \u001b[38;5;124mstar_rating FLOAT,\u001b[39m\n\u001b[0;32m     11\u001b[0m \u001b[38;5;124mprice DECIMAL(10,2),\u001b[39m\n\u001b[0;32m     12\u001b[0m \u001b[38;5;124mseats_available INT\u001b[39m\n\u001b[0;32m     13\u001b[0m \u001b[38;5;124m)\u001b[39m\u001b[38;5;124m\"\"\"\u001b[39m)\n",
      "\u001b[1;31mUndefinedObject\u001b[0m: type \"datetime\" does not exist\nLINE 7: departing_time DATETIME,\n                       ^\n"
     ]
    }
   ],
   "source": [
    "cur.execute(\"\"\" CREATE TABLE bus_routes (\n",
    "id SERIAL PRIMARY KEY,\n",
    "route_name TEXT not null,\n",
    "route_link TEXT,\n",
    "busname TEXT not null,\n",
    "bustype TEXT,\n",
    "departing_time TIME,\n",
    "duration TEXT,\n",
    "reaching_time TIME,\n",
    "star_rating FLOAT,\n",
    "price DECIMAL(10,2),\n",
    "seats_available INT\n",
    ")\"\"\")\n",
    "\n",
    "#### data type --- DATETIME is not available in postgresql\n"
   ]
  },
  {
   "cell_type": "code",
   "execution_count": 143,
   "id": "9d9da6cc-7bd8-4c47-91fa-eb8f9d1f2742",
   "metadata": {},
   "outputs": [],
   "source": [
    "conn.commit()"
   ]
  },
  {
   "cell_type": "code",
   "execution_count": 78,
   "id": "93d83306-fe51-4e14-aab5-d8cef1528407",
   "metadata": {},
   "outputs": [
    {
     "name": "stderr",
     "output_type": "stream",
     "text": [
      "C:\\Users\\Hp\\AppData\\Local\\Temp\\ipykernel_14992\\814891537.py:2: SettingWithCopyWarning: \n",
      "A value is trying to be set on a copy of a slice from a DataFrame\n",
      "\n",
      "See the caveats in the documentation: https://pandas.pydata.org/pandas-docs/stable/user_guide/indexing.html#returning-a-view-versus-a-copy\n",
      "  df_bus_final.rename(columns={\n"
     ]
    }
   ],
   "source": [
    "# Rename DataFrame columns to match the database table\n",
    "df_bus_final.rename(columns={\n",
    "    'Bus Route Name': 'route_name',\n",
    "    'Bus Routes Link': 'route_link',\n",
    "    'Bus Name': 'busname',\n",
    "    'Bus Type': 'bustype',\n",
    "    'Starting Date': 'departing_time',\n",
    "    'Duration': 'duration',\n",
    "    'Reaching Date': 'reaching_time',\n",
    "    'Star Rating': 'star_rating',\n",
    "    'Price': 'price',\n",
    "    'Seat Availability': 'seats_available'\n",
    "}, inplace=True)"
   ]
  },
  {
   "cell_type": "code",
   "execution_count": 91,
   "id": "d8f82c0c-a6a3-4b6c-b04d-d42048b93106",
   "metadata": {},
   "outputs": [],
   "source": [
    "    columns = ', '.join(df_bus_final.columns)\n",
    "    table_name = 'bus_routes'\n",
    "    insert_query = f\"INSERT INTO {table_name} ({columns}) VALUES %s\"\n",
    "\n",
    "    # Convert DataFrame rows to a list of tuples\n",
    "    values = [tuple(row) for row in df_bus_final.to_numpy()]\n",
    "\n",
    "    # Use execute_values for efficient bulk inserts\n",
    "    execute_values(cur, insert_query, values)"
   ]
  },
  {
   "cell_type": "code",
   "execution_count": 93,
   "id": "9e035aa7-1e5b-4e7d-9497-de355dc06c3b",
   "metadata": {},
   "outputs": [],
   "source": [
    "conn.commit()"
   ]
  },
  {
   "cell_type": "code",
   "execution_count": null,
   "id": "662169e1-20b2-4804-bc1c-4afb8a1ceed8",
   "metadata": {},
   "outputs": [],
   "source": []
  }
 ],
 "metadata": {
  "kernelspec": {
   "display_name": "Python 3 (ipykernel)",
   "language": "python",
   "name": "python3"
  },
  "language_info": {
   "codemirror_mode": {
    "name": "ipython",
    "version": 3
   },
   "file_extension": ".py",
   "mimetype": "text/x-python",
   "name": "python",
   "nbconvert_exporter": "python",
   "pygments_lexer": "ipython3",
   "version": "3.11.7"
  }
 },
 "nbformat": 4,
 "nbformat_minor": 5
}
